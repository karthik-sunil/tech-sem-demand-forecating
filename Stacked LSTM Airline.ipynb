{
 "cells": [
  {
   "cell_type": "code",
   "execution_count": 1,
   "metadata": {},
   "outputs": [
    {
     "name": "stderr",
     "output_type": "stream",
     "text": [
      "Using TensorFlow backend.\n"
     ]
    }
   ],
   "source": [
    "import numpy as np\n",
    "import matplotlib.pyplot as plt\n",
    "import pandas as pd\n",
    "from pandas import read_csv\n",
    "import math\n",
    "\n",
    "from keras.models import Sequential\n",
    "from keras.layers import Dense\n",
    "from keras.layers import LSTM, Flatten\n",
    "from sklearn.preprocessing import MinMaxScaler\n",
    "from sklearn.metrics import mean_squared_error\n",
    "from keras.callbacks import EarlyStopping\n",
    "from keras.layers import ConvLSTM2D\n",
    "plt.style.use('dark_background')\n"
   ]
  },
  {
   "cell_type": "code",
   "execution_count": 2,
   "metadata": {},
   "outputs": [
    {
     "data": {
      "text/plain": [
       "[<matplotlib.lines.Line2D at 0x7f1f8da98730>]"
      ]
     },
     "execution_count": 2,
     "metadata": {},
     "output_type": "execute_result"
    },
    {
     "data": {
      "image/png": "[encoded data removed]",
      "text/plain": [
       "<Figure size 432x288 with 1 Axes>"
      ]
     },
     "metadata": {},
     "output_type": "display_data"
    }
   ],
   "source": [
    "df = read_csv('data/AirPassengers.csv', usecols=[1])\n",
    "plt.plot(df)\n"
   ]
  },
  {
   "cell_type": "code",
   "execution_count": 3,
   "metadata": {},
   "outputs": [],
   "source": [
    "dataset = df.values\n",
    "dataset = dataset.astype('float32')"
   ]
  },
  {
   "cell_type": "code",
   "execution_count": 4,
   "metadata": {},
   "outputs": [],
   "source": [
    "scaler = MinMaxScaler(feature_range=(0, 1))\n",
    "dataset = scaler.fit_transform(dataset)"
   ]
  },
  {
   "cell_type": "code",
   "execution_count": 5,
   "metadata": {},
   "outputs": [
    {
     "data": {
      "text/plain": [
       "array([[0.01544401],\n",
       "       [0.02702703],\n",
       "       [0.05405405],\n",
       "       [0.04826255],\n",
       "       [0.03281853],\n",
       "       [0.05984557],\n",
       "       [0.08494207],\n",
       "       [0.08494207],\n",
       "       [0.06177607],\n",
       "       [0.02895753],\n",
       "       [0.        ],\n",
       "       [0.02702703],\n",
       "       [0.02123553],\n",
       "       [0.04247104],\n",
       "       [0.07142857],\n",
       "       [0.05984557],\n",
       "       [0.04054055],\n",
       "       [0.08687258],\n",
       "       [0.12741312],\n",
       "       [0.12741312],\n",
       "       [0.10424709],\n",
       "       [0.05598456],\n",
       "       [0.01930502],\n",
       "       [0.06949806],\n",
       "       [0.07915059],\n",
       "       [0.08880308],\n",
       "       [0.14285713],\n",
       "       [0.11389962],\n",
       "       [0.13127413],\n",
       "       [0.14285713],\n",
       "       [0.18339768],\n",
       "       [0.18339768],\n",
       "       [0.15444016],\n",
       "       [0.11196911],\n",
       "       [0.08108109],\n",
       "       [0.1196911 ],\n",
       "       [0.12934363],\n",
       "       [0.14671814],\n",
       "       [0.17181468],\n",
       "       [0.14864865],\n",
       "       [0.15250966],\n",
       "       [0.22007722],\n",
       "       [0.24324325],\n",
       "       [0.26640925],\n",
       "       [0.2027027 ],\n",
       "       [0.16795367],\n",
       "       [0.13127413],\n",
       "       [0.17374519],\n",
       "       [0.17760617],\n",
       "       [0.17760617],\n",
       "       [0.25482625],\n",
       "       [0.25289574],\n",
       "       [0.24131274],\n",
       "       [0.26833975],\n",
       "       [0.3088803 ],\n",
       "       [0.32432434],\n",
       "       [0.25675675],\n",
       "       [0.20656371],\n",
       "       [0.14671814],\n",
       "       [0.18725869],\n",
       "       [0.19305018],\n",
       "       [0.16216215],\n",
       "       [0.25289574],\n",
       "       [0.23745173],\n",
       "       [0.25096524],\n",
       "       [0.3088803 ],\n",
       "       [0.38223937],\n",
       "       [0.36486486],\n",
       "       [0.2992278 ],\n",
       "       [0.24131274],\n",
       "       [0.1911197 ],\n",
       "       [0.24131274],\n",
       "       [0.26640925],\n",
       "       [0.24903473],\n",
       "       [0.31467178],\n",
       "       [0.3185328 ],\n",
       "       [0.32046333],\n",
       "       [0.4073359 ],\n",
       "       [0.5019305 ],\n",
       "       [0.46911195],\n",
       "       [0.40154442],\n",
       "       [0.32818535],\n",
       "       [0.25675675],\n",
       "       [0.3359073 ],\n",
       "       [0.34749034],\n",
       "       [0.33397684],\n",
       "       [0.41119692],\n",
       "       [0.4034749 ],\n",
       "       [0.4131274 ],\n",
       "       [0.52123547],\n",
       "       [0.5965251 ],\n",
       "       [0.58108103],\n",
       "       [0.484556  ],\n",
       "       [0.3899614 ],\n",
       "       [0.3223938 ],\n",
       "       [0.3899614 ],\n",
       "       [0.4073359 ],\n",
       "       [0.3803089 ],\n",
       "       [0.48648646],\n",
       "       [0.47104248]], dtype=float32)"
      ]
     },
     "execution_count": 5,
     "metadata": {},
     "output_type": "execute_result"
    }
   ],
   "source": [
    "train_size = int(len(dataset) * 0.7)\n",
    "test_size = len(dataset) - train_size\n",
    "\n",
    "train, test = dataset[0:train_size,:], dataset[train_size:len(dataset),:]\n",
    "\n",
    "train\n"
   ]
  },
  {
   "cell_type": "code",
   "execution_count": 6,
   "metadata": {},
   "outputs": [],
   "source": [
    "def to_sequences(dataset, seq_size=1):\n",
    "    x = []\n",
    "    y = []\n",
    "\n",
    "    for i in range(len(dataset)-seq_size-1):\n",
    "        window = dataset[i:(i+seq_size), 0]\n",
    "        x.append(window)\n",
    "        y.append(dataset[i+seq_size, 0])\n",
    "        \n",
    "    return np.array(x),np.array(y)\n"
   ]
  },
  {
   "cell_type": "code",
   "execution_count": 7,
   "metadata": {},
   "outputs": [],
   "source": [
    "seq_size = 10\n",
    "#can be larger for larger datasets, number of previous values the forecast is predicted using\n",
    "\n",
    "trainX, trainY = to_sequences(train, seq_size)\n",
    "testX, testY = to_sequences(test, seq_size)"
   ]
  },
  {
   "cell_type": "code",
   "execution_count": 8,
   "metadata": {},
   "outputs": [
    {
     "name": "stdout",
     "output_type": "stream",
     "text": [
      "Shape of training set: (89, 10)\n",
      "Shape of test set: (33, 10)\n"
     ]
    }
   ],
   "source": [
    "print(\"Shape of training set: {}\".format(trainX.shape))\n",
    "print(\"Shape of test set: {}\".format(testX.shape))"
   ]
  },
  {
   "cell_type": "code",
   "execution_count": 9,
   "metadata": {},
   "outputs": [],
   "source": [
    "trainX = trainX.reshape((trainX.shape[0], 1,seq_size))\n",
    "testX = testX.reshape((testX.shape[0], 1, seq_size))"
   ]
  },
  {
   "cell_type": "code",
   "execution_count": 10,
   "metadata": {},
   "outputs": [
    {
     "name": "stdout",
     "output_type": "stream",
     "text": [
      "Single LSTM with hidden Dense...\n",
      "Model: \"sequential_1\"\n",
      "_________________________________________________________________\n",
      "Layer (type)                 Output Shape              Param #   \n",
      "=================================================================\n",
      "lstm_1 (LSTM)                (None, None, 50)          12200     \n",
      "_________________________________________________________________\n",
      "lstm_2 (LSTM)                (None, 50)                20200     \n",
      "_________________________________________________________________\n",
      "dense_1 (Dense)              (None, 32)                1632      \n",
      "_________________________________________________________________\n",
      "dense_2 (Dense)              (None, 1)                 33        \n",
      "=================================================================\n",
      "Total params: 34,065\n",
      "Trainable params: 34,065\n",
      "Non-trainable params: 0\n",
      "_________________________________________________________________\n"
     ]
    }
   ],
   "source": [
    "print('Single LSTM with hidden Dense...')\n",
    "model = Sequential()\n",
    "model.add(LSTM(50, activation='relu', return_sequences=True, input_shape=(None, seq_size)))\n",
    "model.add(LSTM(50, activation='relu'))\n",
    "model.add(Dense(32))\n",
    "model.add(Dense(1))\n",
    "model.compile(loss='mean_squared_error', optimizer='adam')\n",
    "monitor = EarlyStopping(monitor='val_loss', min_delta=1e-3, patience=20, \n",
    "                        verbose=1, mode='auto', restore_best_weights=True)\n",
    "model.summary()"
   ]
  },
  {
   "cell_type": "code",
   "execution_count": 11,
   "metadata": {},
   "outputs": [
    {
     "name": "stdout",
     "output_type": "stream",
     "text": [
      "Train on 89 samples, validate on 33 samples\n",
      "Epoch 1/100\n",
      " - 7s - loss: 0.0705 - val_loss: 0.3902\n",
      "Epoch 2/100\n",
      " - 0s - loss: 0.0589 - val_loss: 0.3506\n",
      "Epoch 3/100\n",
      " - 0s - loss: 0.0476 - val_loss: 0.3102\n",
      "Epoch 4/100\n",
      " - 0s - loss: 0.0372 - val_loss: 0.2691\n",
      "Epoch 5/100\n",
      " - 0s - loss: 0.0285 - val_loss: 0.2278\n",
      "Epoch 6/100\n",
      " - 0s - loss: 0.0213 - val_loss: 0.1878\n",
      "Epoch 7/100\n",
      " - 0s - loss: 0.0166 - val_loss: 0.1505\n",
      "Epoch 8/100\n",
      " - 0s - loss: 0.0150 - val_loss: 0.1176\n",
      "Epoch 9/100\n",
      " - 0s - loss: 0.0148 - val_loss: 0.0936\n",
      "Epoch 10/100\n",
      " - 0s - loss: 0.0156 - val_loss: 0.0804\n",
      "Epoch 11/100\n",
      " - 0s - loss: 0.0158 - val_loss: 0.0764\n",
      "Epoch 12/100\n",
      " - 0s - loss: 0.0152 - val_loss: 0.0799\n",
      "Epoch 13/100\n",
      " - 0s - loss: 0.0141 - val_loss: 0.0861\n",
      "Epoch 14/100\n",
      " - 0s - loss: 0.0128 - val_loss: 0.0895\n",
      "Epoch 15/100\n",
      " - 0s - loss: 0.0122 - val_loss: 0.0919\n",
      "Epoch 16/100\n",
      " - 0s - loss: 0.0116 - val_loss: 0.0891\n",
      "Epoch 17/100\n",
      " - 0s - loss: 0.0110 - val_loss: 0.0809\n",
      "Epoch 18/100\n",
      " - 0s - loss: 0.0103 - val_loss: 0.0701\n",
      "Epoch 19/100\n",
      " - 0s - loss: 0.0095 - val_loss: 0.0553\n",
      "Epoch 20/100\n",
      " - 0s - loss: 0.0087 - val_loss: 0.0413\n",
      "Epoch 21/100\n",
      " - 0s - loss: 0.0079 - val_loss: 0.0314\n",
      "Epoch 22/100\n",
      " - 0s - loss: 0.0074 - val_loss: 0.0246\n",
      "Epoch 23/100\n",
      " - 0s - loss: 0.0069 - val_loss: 0.0224\n",
      "Epoch 24/100\n",
      " - 0s - loss: 0.0063 - val_loss: 0.0218\n",
      "Epoch 25/100\n",
      " - 0s - loss: 0.0057 - val_loss: 0.0210\n",
      "Epoch 26/100\n",
      " - 0s - loss: 0.0052 - val_loss: 0.0205\n",
      "Epoch 27/100\n",
      " - 0s - loss: 0.0049 - val_loss: 0.0214\n",
      "Epoch 28/100\n",
      " - 0s - loss: 0.0046 - val_loss: 0.0229\n",
      "Epoch 29/100\n",
      " - 0s - loss: 0.0044 - val_loss: 0.0247\n",
      "Epoch 30/100\n",
      " - 0s - loss: 0.0043 - val_loss: 0.0275\n",
      "Epoch 31/100\n",
      " - 0s - loss: 0.0042 - val_loss: 0.0285\n",
      "Epoch 32/100\n",
      " - 0s - loss: 0.0041 - val_loss: 0.0311\n",
      "Epoch 33/100\n",
      " - 0s - loss: 0.0041 - val_loss: 0.0352\n",
      "Epoch 34/100\n",
      " - 0s - loss: 0.0040 - val_loss: 0.0354\n",
      "Epoch 35/100\n",
      " - 0s - loss: 0.0039 - val_loss: 0.0338\n",
      "Epoch 36/100\n",
      " - 0s - loss: 0.0039 - val_loss: 0.0309\n",
      "Epoch 37/100\n",
      " - 0s - loss: 0.0038 - val_loss: 0.0323\n",
      "Epoch 38/100\n",
      " - 0s - loss: 0.0037 - val_loss: 0.0325\n",
      "Epoch 39/100\n",
      " - 0s - loss: 0.0037 - val_loss: 0.0325\n",
      "Epoch 40/100\n",
      " - 0s - loss: 0.0036 - val_loss: 0.0289\n",
      "Epoch 41/100\n",
      " - 0s - loss: 0.0036 - val_loss: 0.0270\n",
      "Epoch 42/100\n",
      " - 0s - loss: 0.0035 - val_loss: 0.0280\n",
      "Epoch 43/100\n",
      " - 0s - loss: 0.0034 - val_loss: 0.0298\n",
      "Epoch 44/100\n",
      " - 0s - loss: 0.0034 - val_loss: 0.0302\n",
      "Epoch 45/100\n",
      " - 0s - loss: 0.0033 - val_loss: 0.0264\n",
      "Epoch 46/100\n",
      " - 0s - loss: 0.0033 - val_loss: 0.0247\n",
      "Epoch 47/100\n",
      " - 0s - loss: 0.0032 - val_loss: 0.0221\n",
      "Epoch 48/100\n",
      " - 0s - loss: 0.0032 - val_loss: 0.0225\n",
      "Epoch 49/100\n",
      " - 0s - loss: 0.0031 - val_loss: 0.0266\n",
      "Epoch 50/100\n",
      " - 0s - loss: 0.0031 - val_loss: 0.0273\n",
      "Epoch 51/100\n",
      " - 0s - loss: 0.0031 - val_loss: 0.0264\n",
      "Epoch 52/100\n",
      " - 0s - loss: 0.0030 - val_loss: 0.0197\n",
      "Epoch 53/100\n",
      " - 0s - loss: 0.0030 - val_loss: 0.0184\n",
      "Epoch 54/100\n",
      " - 0s - loss: 0.0029 - val_loss: 0.0226\n",
      "Epoch 55/100\n",
      " - 0s - loss: 0.0028 - val_loss: 0.0264\n",
      "Epoch 56/100\n",
      " - 0s - loss: 0.0028 - val_loss: 0.0262\n",
      "Epoch 57/100\n",
      " - 0s - loss: 0.0028 - val_loss: 0.0212\n",
      "Epoch 58/100\n",
      " - 0s - loss: 0.0027 - val_loss: 0.0191\n",
      "Epoch 59/100\n",
      " - 0s - loss: 0.0027 - val_loss: 0.0188\n",
      "Epoch 60/100\n",
      " - 0s - loss: 0.0026 - val_loss: 0.0212\n",
      "Epoch 61/100\n",
      " - 0s - loss: 0.0025 - val_loss: 0.0236\n",
      "Epoch 62/100\n",
      " - 0s - loss: 0.0025 - val_loss: 0.0236\n",
      "Epoch 63/100\n",
      " - 0s - loss: 0.0025 - val_loss: 0.0206\n",
      "Epoch 64/100\n",
      " - 0s - loss: 0.0025 - val_loss: 0.0185\n",
      "Epoch 65/100\n",
      " - 0s - loss: 0.0024 - val_loss: 0.0204\n",
      "Epoch 66/100\n",
      " - 0s - loss: 0.0024 - val_loss: 0.0205\n",
      "Epoch 67/100\n",
      " - 0s - loss: 0.0023 - val_loss: 0.0223\n",
      "Epoch 68/100\n",
      " - 0s - loss: 0.0023 - val_loss: 0.0208\n",
      "Epoch 69/100\n",
      " - 0s - loss: 0.0023 - val_loss: 0.0220\n",
      "Epoch 70/100\n",
      " - 0s - loss: 0.0022 - val_loss: 0.0195\n",
      "Epoch 71/100\n",
      " - 0s - loss: 0.0023 - val_loss: 0.0174\n",
      "Epoch 72/100\n",
      " - 0s - loss: 0.0022 - val_loss: 0.0215\n",
      "Epoch 73/100\n",
      " - 0s - loss: 0.0021 - val_loss: 0.0205\n",
      "Epoch 74/100\n",
      " - 0s - loss: 0.0021 - val_loss: 0.0190\n",
      "Epoch 75/100\n",
      " - 0s - loss: 0.0021 - val_loss: 0.0176\n",
      "Epoch 76/100\n",
      " - 0s - loss: 0.0021 - val_loss: 0.0190\n",
      "Epoch 77/100\n",
      " - 0s - loss: 0.0020 - val_loss: 0.0206\n",
      "Epoch 78/100\n",
      " - 0s - loss: 0.0020 - val_loss: 0.0198\n",
      "Epoch 79/100\n",
      " - 0s - loss: 0.0020 - val_loss: 0.0159\n",
      "Epoch 80/100\n",
      " - 0s - loss: 0.0020 - val_loss: 0.0162\n",
      "Epoch 81/100\n",
      " - 0s - loss: 0.0019 - val_loss: 0.0186\n",
      "Epoch 82/100\n",
      " - 0s - loss: 0.0019 - val_loss: 0.0207\n",
      "Epoch 83/100\n",
      " - 0s - loss: 0.0019 - val_loss: 0.0170\n",
      "Epoch 84/100\n",
      " - 0s - loss: 0.0018 - val_loss: 0.0154\n",
      "Epoch 85/100\n",
      " - 0s - loss: 0.0018 - val_loss: 0.0154\n",
      "Epoch 86/100\n",
      " - 0s - loss: 0.0018 - val_loss: 0.0167\n",
      "Epoch 87/100\n",
      " - 0s - loss: 0.0018 - val_loss: 0.0168\n",
      "Epoch 88/100\n",
      " - 0s - loss: 0.0018 - val_loss: 0.0162\n",
      "Epoch 89/100\n",
      " - 0s - loss: 0.0017 - val_loss: 0.0157\n",
      "Epoch 90/100\n",
      " - 0s - loss: 0.0017 - val_loss: 0.0156\n",
      "Epoch 91/100\n",
      " - 0s - loss: 0.0017 - val_loss: 0.0149\n",
      "Epoch 92/100\n",
      " - 0s - loss: 0.0017 - val_loss: 0.0150\n",
      "Epoch 93/100\n",
      " - 0s - loss: 0.0017 - val_loss: 0.0142\n",
      "Epoch 94/100\n",
      " - 0s - loss: 0.0016 - val_loss: 0.0152\n",
      "Epoch 95/100\n",
      " - 0s - loss: 0.0016 - val_loss: 0.0163\n",
      "Epoch 96/100\n",
      " - 0s - loss: 0.0016 - val_loss: 0.0144\n",
      "Epoch 97/100\n",
      " - 0s - loss: 0.0016 - val_loss: 0.0138\n",
      "Epoch 98/100\n",
      " - 0s - loss: 0.0016 - val_loss: 0.0131\n",
      "Epoch 99/100\n",
      " - 0s - loss: 0.0016 - val_loss: 0.0160\n",
      "Epoch 100/100\n",
      " - 0s - loss: 0.0016 - val_loss: 0.0130\n"
     ]
    },
    {
     "data": {
      "text/plain": [
       "<keras.callbacks.callbacks.History at 0x7f1f7c2c1790>"
      ]
     },
     "execution_count": 11,
     "metadata": {},
     "output_type": "execute_result"
    }
   ],
   "source": [
    "model.fit(trainX, trainY, validation_data=(testX, testY),\n",
    "          verbose=2, epochs=100)"
   ]
  },
  {
   "cell_type": "code",
   "execution_count": 12,
   "metadata": {},
   "outputs": [],
   "source": [
    "trainPredict = model.predict(trainX)\n",
    "testPredict = model.predict(testX)"
   ]
  },
  {
   "cell_type": "code",
   "execution_count": 13,
   "metadata": {},
   "outputs": [],
   "source": [
    "trainPredict = scaler.inverse_transform(trainPredict)\n",
    "trainY = scaler.inverse_transform([trainY])\n",
    "testPredict = scaler.inverse_transform(testPredict)\n",
    "testY = scaler.inverse_transform([testY])"
   ]
  },
  {
   "cell_type": "code",
   "execution_count": 14,
   "metadata": {},
   "outputs": [
    {
     "name": "stdout",
     "output_type": "stream",
     "text": [
      "Train Score: 20.24 RMSE\n"
     ]
    }
   ],
   "source": [
    "trainScore = math.sqrt(mean_squared_error(trainY[0], trainPredict[:,0]))\n",
    "print('Train Score: %.2f RMSE' % (trainScore))"
   ]
  },
  {
   "cell_type": "code",
   "execution_count": 15,
   "metadata": {},
   "outputs": [
    {
     "name": "stdout",
     "output_type": "stream",
     "text": [
      "Test Score: 59.01 RMSE\n"
     ]
    }
   ],
   "source": [
    "testScore = math.sqrt(mean_squared_error(testY[0], testPredict[:,0]))\n",
    "print('Test Score: %.2f RMSE' % (testScore))\n"
   ]
  },
  {
   "cell_type": "code",
   "execution_count": 16,
   "metadata": {},
   "outputs": [],
   "source": [
    "trainPredictPlot = np.empty_like(dataset)\n",
    "trainPredictPlot[:, :] = np.nan\n",
    "trainPredictPlot[seq_size:len(trainPredict)+seq_size, :] = trainPredict\n"
   ]
  },
  {
   "cell_type": "code",
   "execution_count": 17,
   "metadata": {},
   "outputs": [],
   "source": [
    "testPredictPlot = np.empty_like(dataset)\n",
    "testPredictPlot[:, :] = np.nan\n",
    "testPredictPlot[len(trainPredict)+(seq_size*2)+1:len(dataset)-1, :] = testPredict"
   ]
  },
  {
   "cell_type": "code",
   "execution_count": 20,
   "metadata": {},
   "outputs": [
    {
     "data": {
      "image/png": "[encoded data removed]",
      "text/plain": [
       "<Figure size 432x288 with 1 Axes>"
      ]
     },
     "metadata": {},
     "output_type": "display_data"
    },
    {
     "data": {
      "image/png": "[encoded data removed]",
      "text/plain": [
       "<Figure size 432x288 with 1 Axes>"
      ]
     },
     "metadata": {},
     "output_type": "display_data"
    }
   ],
   "source": [
    "plt.plot(scaler.inverse_transform(dataset))\n",
    "plt.show()\n",
    "plt.plot(trainPredictPlot)\n",
    "plt.plot(testPredictPlot)\n",
    "plt.show()"
   ]
  },
  {
   "cell_type": "code",
   "execution_count": 19,
   "metadata": {},
   "outputs": [
    {
     "data": {
      "text/plain": [
       "array([[      nan],\n",
       "       [      nan],\n",
       "       [      nan],\n",
       "       [      nan],\n",
       "       [      nan],\n",
       "       [      nan],\n",
       "       [      nan],\n",
       "       [      nan],\n",
       "       [      nan],\n",
       "       [      nan],\n",
       "       [124.64875],\n",
       "       [123.00427],\n",
       "       [129.4025 ],\n",
       "       [128.74318],\n",
       "       [132.07907],\n",
       "       [143.95671],\n",
       "       [148.77177],\n",
       "       [144.75171],\n",
       "       [148.03513],\n",
       "       [153.51163],\n",
       "       [155.8753 ],\n",
       "       [153.06995],\n",
       "       [134.25035],\n",
       "       [131.98427],\n",
       "       [142.79893],\n",
       "       [146.05513],\n",
       "       [149.19183],\n",
       "       [170.99428],\n",
       "       [175.86444],\n",
       "       [181.46935],\n",
       "       [178.77702],\n",
       "       [176.17528],\n",
       "       [176.91367],\n",
       "       [178.00647],\n",
       "       [162.58847],\n",
       "       [160.78062],\n",
       "       [172.78343],\n",
       "       [176.21472],\n",
       "       [185.66194],\n",
       "       [195.52449],\n",
       "       [199.70853],\n",
       "       [200.51604],\n",
       "       [211.07831],\n",
       "       [212.22556],\n",
       "       [217.99615],\n",
       "       [207.68132],\n",
       "       [190.10085],\n",
       "       [183.52727],\n",
       "       [193.87456],\n",
       "       [196.14223],\n",
       "       [205.83588],\n",
       "       [232.17726],\n",
       "       [247.40076],\n",
       "       [250.13217],\n",
       "       [239.98096],\n",
       "       [239.4049 ],\n",
       "       [244.91922],\n",
       "       [235.97466],\n",
       "       [210.44084],\n",
       "       [200.01314],\n",
       "       [214.52628],\n",
       "       [220.82283],\n",
       "       [219.76694],\n",
       "       [241.7777 ],\n",
       "       [254.5382 ],\n",
       "       [263.07645],\n",
       "       [264.8717 ],\n",
       "       [274.2565 ],\n",
       "       [268.92767],\n",
       "       [255.59294],\n",
       "       [219.36464],\n",
       "       [208.97539],\n",
       "       [227.88654],\n",
       "       [238.6914 ],\n",
       "       [246.96245],\n",
       "       [274.66574],\n",
       "       [294.36478],\n",
       "       [294.95142],\n",
       "       [305.57254],\n",
       "       [323.976  ],\n",
       "       [317.33038],\n",
       "       [301.0458 ],\n",
       "       [259.82123],\n",
       "       [244.51584],\n",
       "       [267.7232 ],\n",
       "       [280.00546],\n",
       "       [290.1991 ],\n",
       "       [330.83075],\n",
       "       [353.53644],\n",
       "       [352.6757 ],\n",
       "       [371.5499 ],\n",
       "       [380.86823],\n",
       "       [374.94962],\n",
       "       [352.1548 ],\n",
       "       [299.65994],\n",
       "       [283.2139 ],\n",
       "       [308.38135],\n",
       "       [319.49728],\n",
       "       [331.44104],\n",
       "       [      nan],\n",
       "       [      nan],\n",
       "       [      nan],\n",
       "       [      nan],\n",
       "       [      nan],\n",
       "       [      nan],\n",
       "       [      nan],\n",
       "       [      nan],\n",
       "       [      nan],\n",
       "       [      nan],\n",
       "       [      nan],\n",
       "       [      nan],\n",
       "       [      nan],\n",
       "       [      nan],\n",
       "       [      nan],\n",
       "       [      nan],\n",
       "       [      nan],\n",
       "       [      nan],\n",
       "       [      nan],\n",
       "       [      nan],\n",
       "       [      nan],\n",
       "       [      nan],\n",
       "       [      nan],\n",
       "       [      nan],\n",
       "       [      nan],\n",
       "       [      nan],\n",
       "       [      nan],\n",
       "       [      nan],\n",
       "       [      nan],\n",
       "       [      nan],\n",
       "       [      nan],\n",
       "       [      nan],\n",
       "       [      nan],\n",
       "       [      nan],\n",
       "       [      nan],\n",
       "       [      nan],\n",
       "       [      nan],\n",
       "       [      nan],\n",
       "       [      nan],\n",
       "       [      nan],\n",
       "       [      nan],\n",
       "       [      nan],\n",
       "       [      nan],\n",
       "       [      nan],\n",
       "       [      nan]], dtype=float32)"
      ]
     },
     "execution_count": 19,
     "metadata": {},
     "output_type": "execute_result"
    }
   ],
   "source": [
    "trainPredictPlot"
   ]
  },
  {
   "cell_type": "code",
   "execution_count": null,
   "metadata": {},
   "outputs": [],
   "source": []
  },
  {
   "cell_type": "code",
   "execution_count": null,
   "metadata": {},
   "outputs": [],
   "source": []
  },
  {
   "cell_type": "code",
   "execution_count": null,
   "metadata": {},
   "outputs": [],
   "source": []
  },
  {
   "cell_type": "code",
   "execution_count": null,
   "metadata": {},
   "outputs": [],
   "source": []
  },
  {
   "cell_type": "code",
   "execution_count": null,
   "metadata": {},
   "outputs": [],
   "source": []
  }
 ],
 "metadata": {
  "kernelspec": {
   "display_name": "Python 3.8.3 64-bit ('neuralnet': conda)",
   "language": "python",
   "name": "python38364bitneuralnetcondab96f87a952524cb1a2f43a859a2fadd8"
  },
  "language_info": {
   "codemirror_mode": {
    "name": "ipython",
    "version": 3
   },
   "file_extension": ".py",
   "mimetype": "text/x-python",
   "name": "python",
   "nbconvert_exporter": "python",
   "pygments_lexer": "ipython3",
   "version": "3.8.3"
  }
 },
 "nbformat": 4,
 "nbformat_minor": 2
}
