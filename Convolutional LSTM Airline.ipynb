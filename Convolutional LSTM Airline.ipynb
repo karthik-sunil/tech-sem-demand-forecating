{
 "cells": [
  {
   "cell_type": "code",
   "execution_count": 87,
   "metadata": {},
   "outputs": [],
   "source": [
    "import numpy as np\n",
    "import matplotlib.pyplot as plt\n",
    "import pandas as pd\n",
    "from pandas import read_csv\n",
    "import math\n",
    "\n",
    "from keras.models import Sequential\n",
    "from keras.layers import Dense\n",
    "from keras.layers import LSTM, Flatten\n",
    "from sklearn.preprocessing import MinMaxScaler\n",
    "from sklearn.metrics import mean_squared_error\n",
    "#from keras.callbacks import EarlyStopping\n",
    "from keras.layers import ConvLSTM2D\n",
    "plt.style.use('dark_background')\n"
   ]
  },
  {
   "cell_type": "code",
   "execution_count": 88,
   "metadata": {},
   "outputs": [
    {
     "data": {
      "text/plain": [
       "[<matplotlib.lines.Line2D at 0x7f246767ba30>]"
      ]
     },
     "execution_count": 88,
     "metadata": {},
     "output_type": "execute_result"
    },
    {
     "data": {
      "image/png": "[encoded data removed]",
      "text/plain": [
       "<Figure size 432x288 with 1 Axes>"
      ]
     },
     "metadata": {},
     "output_type": "display_data"
    }
   ],
   "source": [
    "df = read_csv('data/AirPassengers.csv', usecols=[1])\n",
    "plt.plot(df)\n"
   ]
  },
  {
   "cell_type": "code",
   "execution_count": 89,
   "metadata": {},
   "outputs": [],
   "source": [
    "dataset = df.values\n",
    "dataset = dataset.astype('float32')"
   ]
  },
  {
   "cell_type": "code",
   "execution_count": 90,
   "metadata": {},
   "outputs": [],
   "source": [
    "scaler = MinMaxScaler(feature_range=(0, 1))\n",
    "dataset = scaler.fit_transform(dataset)"
   ]
  },
  {
   "cell_type": "code",
   "execution_count": 92,
   "metadata": {},
   "outputs": [
    {
     "data": {
      "text/plain": [
       "array([[0.01544401],\n",
       "       [0.02702703],\n",
       "       [0.05405405],\n",
       "       [0.04826255],\n",
       "       [0.03281853],\n",
       "       [0.05984557],\n",
       "       [0.08494207],\n",
       "       [0.08494207],\n",
       "       [0.06177607],\n",
       "       [0.02895753],\n",
       "       [0.        ],\n",
       "       [0.02702703],\n",
       "       [0.02123553],\n",
       "       [0.04247104],\n",
       "       [0.07142857],\n",
       "       [0.05984557],\n",
       "       [0.04054055],\n",
       "       [0.08687258],\n",
       "       [0.12741312],\n",
       "       [0.12741312],\n",
       "       [0.10424709],\n",
       "       [0.05598456],\n",
       "       [0.01930502],\n",
       "       [0.06949806],\n",
       "       [0.07915059],\n",
       "       [0.08880308],\n",
       "       [0.14285713],\n",
       "       [0.11389962],\n",
       "       [0.13127413],\n",
       "       [0.14285713],\n",
       "       [0.18339768],\n",
       "       [0.18339768],\n",
       "       [0.15444016],\n",
       "       [0.11196911],\n",
       "       [0.08108109],\n",
       "       [0.1196911 ],\n",
       "       [0.12934363],\n",
       "       [0.14671814],\n",
       "       [0.17181468],\n",
       "       [0.14864865],\n",
       "       [0.15250966],\n",
       "       [0.22007722],\n",
       "       [0.24324325],\n",
       "       [0.26640925],\n",
       "       [0.2027027 ],\n",
       "       [0.16795367],\n",
       "       [0.13127413],\n",
       "       [0.17374519],\n",
       "       [0.17760617],\n",
       "       [0.17760617],\n",
       "       [0.25482625],\n",
       "       [0.25289574],\n",
       "       [0.24131274],\n",
       "       [0.26833975],\n",
       "       [0.3088803 ],\n",
       "       [0.32432434],\n",
       "       [0.25675675],\n",
       "       [0.20656371],\n",
       "       [0.14671814],\n",
       "       [0.18725869],\n",
       "       [0.19305018],\n",
       "       [0.16216215],\n",
       "       [0.25289574],\n",
       "       [0.23745173],\n",
       "       [0.25096524],\n",
       "       [0.3088803 ],\n",
       "       [0.38223937],\n",
       "       [0.36486486],\n",
       "       [0.2992278 ],\n",
       "       [0.24131274],\n",
       "       [0.1911197 ],\n",
       "       [0.24131274],\n",
       "       [0.26640925],\n",
       "       [0.24903473],\n",
       "       [0.31467178],\n",
       "       [0.3185328 ],\n",
       "       [0.32046333],\n",
       "       [0.4073359 ],\n",
       "       [0.5019305 ],\n",
       "       [0.46911195],\n",
       "       [0.40154442],\n",
       "       [0.32818535],\n",
       "       [0.25675675],\n",
       "       [0.3359073 ],\n",
       "       [0.34749034],\n",
       "       [0.33397684],\n",
       "       [0.41119692],\n",
       "       [0.4034749 ],\n",
       "       [0.4131274 ],\n",
       "       [0.52123547],\n",
       "       [0.5965251 ],\n",
       "       [0.58108103],\n",
       "       [0.484556  ],\n",
       "       [0.3899614 ],\n",
       "       [0.3223938 ],\n",
       "       [0.3899614 ],\n",
       "       [0.4073359 ],\n",
       "       [0.3803089 ],\n",
       "       [0.48648646],\n",
       "       [0.47104248]], dtype=float32)"
      ]
     },
     "execution_count": 92,
     "metadata": {},
     "output_type": "execute_result"
    }
   ],
   "source": [
    "train_size = int(len(dataset) * 0.7)\n",
    "test_size = len(dataset) - train_size\n",
    "\n",
    "train, test = dataset[0:train_size,:], dataset[train_size:len(dataset),:]\n",
    "\n",
    "train\n"
   ]
  },
  {
   "cell_type": "code",
   "execution_count": 93,
   "metadata": {},
   "outputs": [],
   "source": [
    "def to_sequences(dataset, seq_size=1):\n",
    "    x = []\n",
    "    y = []\n",
    "\n",
    "    for i in range(len(dataset)-seq_size-1):\n",
    "        window = dataset[i:(i+seq_size), 0]\n",
    "        x.append(window)\n",
    "        y.append(dataset[i+seq_size, 0])\n",
    "        \n",
    "    return np.array(x),np.array(y)\n"
   ]
  },
  {
   "cell_type": "code",
   "execution_count": 94,
   "metadata": {},
   "outputs": [],
   "source": [
    "seq_size = 10\n",
    "#can be larger for larger datasets, number of previous values the forecast is predicted using\n",
    "\n",
    "trainX, trainY = to_sequences(train, seq_size)\n",
    "testX, testY = to_sequences(test, seq_size)"
   ]
  },
  {
   "cell_type": "code",
   "execution_count": 95,
   "metadata": {},
   "outputs": [
    {
     "name": "stdout",
     "output_type": "stream",
     "text": [
      "Shape of training set: (89, 10)\n",
      "Shape of test set: (33, 10)\n"
     ]
    }
   ],
   "source": [
    "print(\"Shape of training set: {}\".format(trainX.shape))\n",
    "print(\"Shape of test set: {}\".format(testX.shape))"
   ]
  },
  {
   "cell_type": "code",
   "execution_count": 97,
   "metadata": {},
   "outputs": [],
   "source": [
    "trainX = trainX.reshape((trainX.shape[0], 1, 1, 1, seq_size))\n",
    "testX = testX.reshape((testX.shape[0], 1, 1, 1, seq_size))"
   ]
  },
  {
   "cell_type": "code",
   "execution_count": 98,
   "metadata": {},
   "outputs": [
    {
     "name": "stdout",
     "output_type": "stream",
     "text": [
      "Model: \"sequential_1\"\n",
      "_________________________________________________________________\n",
      "Layer (type)                 Output Shape              Param #   \n",
      "=================================================================\n",
      "conv_lst_m2d_1 (ConvLSTM2D)  (None, 1, 1, 64)          19200     \n",
      "_________________________________________________________________\n",
      "flatten_1 (Flatten)          (None, 64)                0         \n",
      "_________________________________________________________________\n",
      "dense_1 (Dense)              (None, 32)                2080      \n",
      "_________________________________________________________________\n",
      "dense_2 (Dense)              (None, 1)                 33        \n",
      "=================================================================\n",
      "Total params: 21,313\n",
      "Trainable params: 21,313\n",
      "Non-trainable params: 0\n",
      "_________________________________________________________________\n"
     ]
    }
   ],
   "source": [
    "model = Sequential()\n",
    "model.add(ConvLSTM2D(filters=64, kernel_size=(1,1), activation='relu', input_shape=(1, 1, 1, seq_size)))\n",
    "model.add(Flatten())\n",
    "model.add(Dense(32))\n",
    "model.add(Dense(1))\n",
    "model.compile(optimizer='adam', loss='mean_squared_error')\n",
    "model.summary()"
   ]
  },
  {
   "cell_type": "code",
   "execution_count": 99,
   "metadata": {},
   "outputs": [
    {
     "name": "stdout",
     "output_type": "stream",
     "text": [
      "Train on 89 samples, validate on 33 samples\n",
      "Epoch 1/100\n",
      " - 6s - loss: 0.0814 - val_loss: 0.4164\n",
      "Epoch 2/100\n",
      " - 0s - loss: 0.0617 - val_loss: 0.3344\n",
      "Epoch 3/100\n",
      " - 0s - loss: 0.0444 - val_loss: 0.2620\n",
      "Epoch 4/100\n",
      " - 1s - loss: 0.0312 - val_loss: 0.1986\n",
      "Epoch 5/100\n",
      " - 0s - loss: 0.0203 - val_loss: 0.1451\n",
      "Epoch 6/100\n",
      " - 1s - loss: 0.0140 - val_loss: 0.1008\n",
      "Epoch 7/100\n",
      " - 1s - loss: 0.0104 - val_loss: 0.0682\n",
      "Epoch 8/100\n",
      " - 1s - loss: 0.0094 - val_loss: 0.0479\n",
      "Epoch 9/100\n",
      " - 1s - loss: 0.0101 - val_loss: 0.0376\n",
      "Epoch 10/100\n",
      " - 0s - loss: 0.0109 - val_loss: 0.0340\n",
      "Epoch 11/100\n",
      " - 1s - loss: 0.0108 - val_loss: 0.0350\n",
      "Epoch 12/100\n",
      " - 1s - loss: 0.0099 - val_loss: 0.0384\n",
      "Epoch 13/100\n",
      " - 0s - loss: 0.0091 - val_loss: 0.0438\n",
      "Epoch 14/100\n",
      " - 1s - loss: 0.0083 - val_loss: 0.0491\n",
      "Epoch 15/100\n",
      " - 1s - loss: 0.0079 - val_loss: 0.0530\n",
      "Epoch 16/100\n",
      " - 1s - loss: 0.0078 - val_loss: 0.0546\n",
      "Epoch 17/100\n",
      " - 0s - loss: 0.0076 - val_loss: 0.0526\n",
      "Epoch 18/100\n",
      " - 1s - loss: 0.0073 - val_loss: 0.0480\n",
      "Epoch 19/100\n",
      " - 1s - loss: 0.0070 - val_loss: 0.0421\n",
      "Epoch 20/100\n",
      " - 1s - loss: 0.0067 - val_loss: 0.0366\n",
      "Epoch 21/100\n",
      " - 1s - loss: 0.0063 - val_loss: 0.0327\n",
      "Epoch 22/100\n",
      " - 1s - loss: 0.0061 - val_loss: 0.0297\n",
      "Epoch 23/100\n",
      " - 1s - loss: 0.0059 - val_loss: 0.0273\n",
      "Epoch 24/100\n",
      " - 0s - loss: 0.0057 - val_loss: 0.0261\n",
      "Epoch 25/100\n",
      " - 1s - loss: 0.0055 - val_loss: 0.0255\n",
      "Epoch 26/100\n",
      " - 1s - loss: 0.0053 - val_loss: 0.0248\n",
      "Epoch 27/100\n",
      " - 1s - loss: 0.0052 - val_loss: 0.0245\n",
      "Epoch 28/100\n",
      " - 1s - loss: 0.0050 - val_loss: 0.0239\n",
      "Epoch 29/100\n",
      " - 0s - loss: 0.0049 - val_loss: 0.0230\n",
      "Epoch 30/100\n",
      " - 1s - loss: 0.0048 - val_loss: 0.0220\n",
      "Epoch 31/100\n",
      " - 1s - loss: 0.0047 - val_loss: 0.0215\n",
      "Epoch 32/100\n",
      " - 1s - loss: 0.0046 - val_loss: 0.0209\n",
      "Epoch 33/100\n",
      " - 1s - loss: 0.0045 - val_loss: 0.0206\n",
      "Epoch 34/100\n",
      " - 1s - loss: 0.0044 - val_loss: 0.0203\n",
      "Epoch 35/100\n",
      " - 1s - loss: 0.0043 - val_loss: 0.0200\n",
      "Epoch 36/100\n",
      " - 1s - loss: 0.0043 - val_loss: 0.0199\n",
      "Epoch 37/100\n",
      " - 1s - loss: 0.0042 - val_loss: 0.0198\n",
      "Epoch 38/100\n",
      " - 1s - loss: 0.0041 - val_loss: 0.0197\n",
      "Epoch 39/100\n",
      " - 1s - loss: 0.0041 - val_loss: 0.0197\n",
      "Epoch 40/100\n",
      " - 1s - loss: 0.0040 - val_loss: 0.0194\n",
      "Epoch 41/100\n",
      " - 1s - loss: 0.0040 - val_loss: 0.0191\n",
      "Epoch 42/100\n",
      " - 1s - loss: 0.0039 - val_loss: 0.0187\n",
      "Epoch 43/100\n",
      " - 1s - loss: 0.0039 - val_loss: 0.0185\n",
      "Epoch 44/100\n",
      " - 1s - loss: 0.0038 - val_loss: 0.0185\n",
      "Epoch 45/100\n",
      " - 0s - loss: 0.0038 - val_loss: 0.0186\n",
      "Epoch 46/100\n",
      " - 1s - loss: 0.0037 - val_loss: 0.0182\n",
      "Epoch 47/100\n",
      " - 1s - loss: 0.0036 - val_loss: 0.0182\n",
      "Epoch 48/100\n",
      " - 0s - loss: 0.0036 - val_loss: 0.0181\n",
      "Epoch 49/100\n",
      " - 1s - loss: 0.0036 - val_loss: 0.0180\n",
      "Epoch 50/100\n",
      " - 1s - loss: 0.0035 - val_loss: 0.0176\n",
      "Epoch 51/100\n",
      " - 1s - loss: 0.0034 - val_loss: 0.0170\n",
      "Epoch 52/100\n",
      " - 1s - loss: 0.0034 - val_loss: 0.0167\n",
      "Epoch 53/100\n",
      " - 1s - loss: 0.0034 - val_loss: 0.0164\n",
      "Epoch 54/100\n",
      " - 1s - loss: 0.0033 - val_loss: 0.0160\n",
      "Epoch 55/100\n",
      " - 1s - loss: 0.0032 - val_loss: 0.0160\n",
      "Epoch 56/100\n",
      " - 1s - loss: 0.0032 - val_loss: 0.0162\n",
      "Epoch 57/100\n",
      " - 1s - loss: 0.0031 - val_loss: 0.0163\n",
      "Epoch 58/100\n",
      " - 1s - loss: 0.0031 - val_loss: 0.0155\n",
      "Epoch 59/100\n",
      " - 1s - loss: 0.0030 - val_loss: 0.0153\n",
      "Epoch 60/100\n",
      " - 1s - loss: 0.0030 - val_loss: 0.0147\n",
      "Epoch 61/100\n",
      " - 1s - loss: 0.0029 - val_loss: 0.0144\n",
      "Epoch 62/100\n",
      " - 1s - loss: 0.0029 - val_loss: 0.0144\n",
      "Epoch 63/100\n",
      " - 1s - loss: 0.0028 - val_loss: 0.0142\n",
      "Epoch 64/100\n",
      " - 1s - loss: 0.0028 - val_loss: 0.0138\n",
      "Epoch 65/100\n",
      " - 1s - loss: 0.0027 - val_loss: 0.0128\n",
      "Epoch 66/100\n",
      " - 1s - loss: 0.0027 - val_loss: 0.0135\n",
      "Epoch 67/100\n",
      " - 1s - loss: 0.0026 - val_loss: 0.0134\n",
      "Epoch 68/100\n",
      " - 1s - loss: 0.0026 - val_loss: 0.0132\n",
      "Epoch 69/100\n",
      " - 1s - loss: 0.0025 - val_loss: 0.0125\n",
      "Epoch 70/100\n",
      " - 1s - loss: 0.0025 - val_loss: 0.0123\n",
      "Epoch 71/100\n",
      " - 1s - loss: 0.0024 - val_loss: 0.0116\n",
      "Epoch 72/100\n",
      " - 1s - loss: 0.0024 - val_loss: 0.0119\n",
      "Epoch 73/100\n",
      " - 1s - loss: 0.0023 - val_loss: 0.0124\n",
      "Epoch 74/100\n",
      " - 1s - loss: 0.0023 - val_loss: 0.0124\n",
      "Epoch 75/100\n",
      " - 1s - loss: 0.0022 - val_loss: 0.0114\n",
      "Epoch 76/100\n",
      " - 1s - loss: 0.0022 - val_loss: 0.0106\n",
      "Epoch 77/100\n",
      " - 1s - loss: 0.0022 - val_loss: 0.0104\n",
      "Epoch 78/100\n",
      " - 1s - loss: 0.0021 - val_loss: 0.0114\n",
      "Epoch 79/100\n",
      " - 1s - loss: 0.0021 - val_loss: 0.0112\n",
      "Epoch 80/100\n",
      " - 1s - loss: 0.0020 - val_loss: 0.0112\n",
      "Epoch 81/100\n",
      " - 1s - loss: 0.0020 - val_loss: 0.0112\n",
      "Epoch 82/100\n",
      " - 1s - loss: 0.0020 - val_loss: 0.0101\n",
      "Epoch 83/100\n",
      " - 0s - loss: 0.0019 - val_loss: 0.0103\n",
      "Epoch 84/100\n",
      " - 1s - loss: 0.0019 - val_loss: 0.0100\n",
      "Epoch 85/100\n",
      " - 1s - loss: 0.0019 - val_loss: 0.0105\n",
      "Epoch 86/100\n",
      " - 1s - loss: 0.0018 - val_loss: 0.0095\n",
      "Epoch 87/100\n",
      " - 1s - loss: 0.0018 - val_loss: 0.0095\n",
      "Epoch 88/100\n",
      " - 1s - loss: 0.0018 - val_loss: 0.0096\n",
      "Epoch 89/100\n",
      " - 1s - loss: 0.0018 - val_loss: 0.0104\n",
      "Epoch 90/100\n",
      " - 1s - loss: 0.0018 - val_loss: 0.0107\n",
      "Epoch 91/100\n",
      " - 0s - loss: 0.0017 - val_loss: 0.0093\n",
      "Epoch 92/100\n",
      " - 1s - loss: 0.0017 - val_loss: 0.0091\n",
      "Epoch 93/100\n",
      " - 1s - loss: 0.0017 - val_loss: 0.0102\n",
      "Epoch 94/100\n",
      " - 1s - loss: 0.0017 - val_loss: 0.0104\n",
      "Epoch 95/100\n",
      " - 1s - loss: 0.0017 - val_loss: 0.0099\n",
      "Epoch 96/100\n",
      " - 1s - loss: 0.0016 - val_loss: 0.0104\n",
      "Epoch 97/100\n",
      " - 1s - loss: 0.0016 - val_loss: 0.0102\n",
      "Epoch 98/100\n",
      " - 1s - loss: 0.0016 - val_loss: 0.0098\n",
      "Epoch 99/100\n",
      " - 1s - loss: 0.0016 - val_loss: 0.0095\n",
      "Epoch 100/100\n",
      " - 1s - loss: 0.0016 - val_loss: 0.0094\n"
     ]
    },
    {
     "data": {
      "text/plain": [
       "<keras.callbacks.callbacks.History at 0x7f252c537700>"
      ]
     },
     "execution_count": 99,
     "metadata": {},
     "output_type": "execute_result"
    }
   ],
   "source": [
    "model.fit(trainX, trainY, validation_data=(testX, testY),\n",
    "          verbose=2, epochs=100)"
   ]
  },
  {
   "cell_type": "code",
   "execution_count": 100,
   "metadata": {},
   "outputs": [],
   "source": [
    "trainPredict = model.predict(trainX)\n",
    "testPredict = model.predict(testX)"
   ]
  },
  {
   "cell_type": "code",
   "execution_count": 101,
   "metadata": {},
   "outputs": [],
   "source": [
    "trainPredict = scaler.inverse_transform(trainPredict)\n",
    "trainY = scaler.inverse_transform([trainY])\n",
    "testPredict = scaler.inverse_transform(testPredict)\n",
    "testY = scaler.inverse_transform([testY])"
   ]
  },
  {
   "cell_type": "code",
   "execution_count": 102,
   "metadata": {},
   "outputs": [
    {
     "name": "stdout",
     "output_type": "stream",
     "text": [
      "Train Score: 20.50 RMSE\n"
     ]
    }
   ],
   "source": [
    "trainScore = math.sqrt(mean_squared_error(trainY[0], trainPredict[:,0]))\n",
    "print('Train Score: %.2f RMSE' % (trainScore))"
   ]
  },
  {
   "cell_type": "code",
   "execution_count": 103,
   "metadata": {},
   "outputs": [
    {
     "name": "stdout",
     "output_type": "stream",
     "text": [
      "Test Score: 50.13 RMSE\n"
     ]
    }
   ],
   "source": [
    "testScore = math.sqrt(mean_squared_error(testY[0], testPredict[:,0]))\n",
    "print('Test Score: %.2f RMSE' % (testScore))\n"
   ]
  },
  {
   "cell_type": "code",
   "execution_count": 104,
   "metadata": {},
   "outputs": [],
   "source": [
    "trainPredictPlot = np.empty_like(dataset)\n",
    "trainPredictPlot[:, :] = np.nan\n",
    "trainPredictPlot[seq_size:len(trainPredict)+seq_size, :] = trainPredict\n"
   ]
  },
  {
   "cell_type": "code",
   "execution_count": 110,
   "metadata": {},
   "outputs": [],
   "source": [
    "testPredictPlot = np.empty_like(dataset)\n",
    "testPredictPlot[:, :] = np.nan\n",
    "testPredictPlot[len(trainPredict)+(seq_size*2)+1:len(dataset)-1, :] = testPredict"
   ]
  },
  {
   "cell_type": "code",
   "execution_count": 111,
   "metadata": {},
   "outputs": [
    {
     "data": {
      "image/png": "[encoded data removed]",
      "text/plain": [
       "<Figure size 432x288 with 1 Axes>"
      ]
     },
     "metadata": {},
     "output_type": "display_data"
    },
    {
     "data": {
      "image/png": "[encoded data removed]",
      "text/plain": [
       "<Figure size 432x288 with 1 Axes>"
      ]
     },
     "metadata": {},
     "output_type": "display_data"
    }
   ],
   "source": [
    "plt.plot(scaler.inverse_transform(dataset))\n",
    "plt.show()\n",
    "plt.plot(trainPredictPlot)\n",
    "plt.plot(testPredictPlot)\n",
    "plt.show()"
   ]
  },
  {
   "cell_type": "code",
   "execution_count": 112,
   "metadata": {},
   "outputs": [
    {
     "data": {
      "text/plain": [
       "array([[       nan],\n",
       "       [       nan],\n",
       "       [       nan],\n",
       "       [       nan],\n",
       "       [       nan],\n",
       "       [       nan],\n",
       "       [       nan],\n",
       "       [       nan],\n",
       "       [       nan],\n",
       "       [       nan],\n",
       "       [127.034096],\n",
       "       [125.37575 ],\n",
       "       [133.138   ],\n",
       "       [131.45348 ],\n",
       "       [136.20921 ],\n",
       "       [147.65231 ],\n",
       "       [151.78261 ],\n",
       "       [145.17657 ],\n",
       "       [148.59367 ],\n",
       "       [155.6374  ],\n",
       "       [160.55946 ],\n",
       "       [154.56479 ],\n",
       "       [135.65706 ],\n",
       "       [133.05316 ],\n",
       "       [147.08475 ],\n",
       "       [149.31273 ],\n",
       "       [154.429   ],\n",
       "       [174.08571 ],\n",
       "       [176.36227 ],\n",
       "       [180.281   ],\n",
       "       [175.55309 ],\n",
       "       [177.61647 ],\n",
       "       [179.55316 ],\n",
       "       [178.88103 ],\n",
       "       [160.90529 ],\n",
       "       [159.47177 ],\n",
       "       [173.10828 ],\n",
       "       [176.77106 ],\n",
       "       [186.40616 ],\n",
       "       [195.8697  ],\n",
       "       [197.68765 ],\n",
       "       [196.30313 ],\n",
       "       [207.30374 ],\n",
       "       [211.11244 ],\n",
       "       [219.39093 ],\n",
       "       [203.21849 ],\n",
       "       [186.89655 ],\n",
       "       [182.88072 ],\n",
       "       [196.92563 ],\n",
       "       [195.75134 ],\n",
       "       [203.72258 ],\n",
       "       [232.81871 ],\n",
       "       [247.20868 ],\n",
       "       [246.06287 ],\n",
       "       [235.14682 ],\n",
       "       [237.81526 ],\n",
       "       [247.03171 ],\n",
       "       [233.97012 ],\n",
       "       [204.48999 ],\n",
       "       [194.1534  ],\n",
       "       [218.18497 ],\n",
       "       [220.89671 ],\n",
       "       [214.93552 ],\n",
       "       [241.2166  ],\n",
       "       [254.19945 ],\n",
       "       [261.453   ],\n",
       "       [260.25192 ],\n",
       "       [272.37228 ],\n",
       "       [268.7274  ],\n",
       "       [251.90587 ],\n",
       "       [213.14122 ],\n",
       "       [206.5906  ],\n",
       "       [234.26363 ],\n",
       "       [241.29501 ],\n",
       "       [245.97311 ],\n",
       "       [276.92584 ],\n",
       "       [295.3792  ],\n",
       "       [294.38446 ],\n",
       "       [303.4903  ],\n",
       "       [323.49457 ],\n",
       "       [318.03186 ],\n",
       "       [298.16254 ],\n",
       "       [253.77005 ],\n",
       "       [241.20041 ],\n",
       "       [277.2569  ],\n",
       "       [283.30545 ],\n",
       "       [290.23944 ],\n",
       "       [333.87698 ],\n",
       "       [354.4174  ],\n",
       "       [353.13052 ],\n",
       "       [369.01733 ],\n",
       "       [379.5686  ],\n",
       "       [376.74704 ],\n",
       "       [346.91647 ],\n",
       "       [288.7057  ],\n",
       "       [277.1899  ],\n",
       "       [314.6636  ],\n",
       "       [320.14487 ],\n",
       "       [327.55023 ],\n",
       "       [       nan],\n",
       "       [       nan],\n",
       "       [       nan],\n",
       "       [       nan],\n",
       "       [       nan],\n",
       "       [       nan],\n",
       "       [       nan],\n",
       "       [       nan],\n",
       "       [       nan],\n",
       "       [       nan],\n",
       "       [       nan],\n",
       "       [       nan],\n",
       "       [       nan],\n",
       "       [       nan],\n",
       "       [       nan],\n",
       "       [       nan],\n",
       "       [       nan],\n",
       "       [       nan],\n",
       "       [       nan],\n",
       "       [       nan],\n",
       "       [       nan],\n",
       "       [       nan],\n",
       "       [       nan],\n",
       "       [       nan],\n",
       "       [       nan],\n",
       "       [       nan],\n",
       "       [       nan],\n",
       "       [       nan],\n",
       "       [       nan],\n",
       "       [       nan],\n",
       "       [       nan],\n",
       "       [       nan],\n",
       "       [       nan],\n",
       "       [       nan],\n",
       "       [       nan],\n",
       "       [       nan],\n",
       "       [       nan],\n",
       "       [       nan],\n",
       "       [       nan],\n",
       "       [       nan],\n",
       "       [       nan],\n",
       "       [       nan],\n",
       "       [       nan],\n",
       "       [       nan],\n",
       "       [       nan]], dtype=float32)"
      ]
     },
     "execution_count": 112,
     "metadata": {},
     "output_type": "execute_result"
    }
   ],
   "source": [
    "trainPredictPlot"
   ]
  },
  {
   "cell_type": "code",
   "execution_count": null,
   "metadata": {},
   "outputs": [],
   "source": []
  }
 ],
 "metadata": {
  "kernelspec": {
   "display_name": "Python 3.8.3 64-bit ('neuralnet': conda)",
   "language": "python",
   "name": "python38364bitneuralnetcondab96f87a952524cb1a2f43a859a2fadd8"
  },
  "language_info": {
   "codemirror_mode": {
    "name": "ipython",
    "version": 3
   },
   "file_extension": ".py",
   "mimetype": "text/x-python",
   "name": "python",
   "nbconvert_exporter": "python",
   "pygments_lexer": "ipython3",
   "version": "3.8.3"
  }
 },
 "nbformat": 4,
 "nbformat_minor": 2
}
