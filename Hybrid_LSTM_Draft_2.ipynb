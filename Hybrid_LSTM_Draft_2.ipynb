{
 "cells": [
  {
   "cell_type": "code",
   "execution_count": 1,
   "metadata": {},
   "outputs": [
    {
     "name": "stderr",
     "output_type": "stream",
     "text": [
      "Using TensorFlow backend.\n"
     ]
    }
   ],
   "source": [
    "import numpy as np\n",
    "import matplotlib.pyplot as plt\n",
    "import pandas as pd\n",
    "from pandas import read_csv\n",
    "import math\n",
    "\n",
    "from keras.models import Sequential\n",
    "from keras.layers import Dense\n",
    "from keras.layers import LSTM, Flatten\n",
    "from sklearn.preprocessing import MinMaxScaler\n",
    "from sklearn.metrics import mean_squared_error\n",
    "from keras.callbacks import EarlyStopping\n",
    "from keras.layers import ConvLSTM2D\n",
    "plt.style.use('dark_background')\n"
   ]
  },
  {
   "cell_type": "code",
   "execution_count": 2,
   "metadata": {},
   "outputs": [
    {
     "data": {
      "text/plain": [
       "[<matplotlib.lines.Line2D at 0x7f74929cc790>]"
      ]
     },
     "execution_count": 2,
     "metadata": {},
     "output_type": "execute_result"
    },
    {
     "data": {
      "image/png": "[encoded data removed]",
      "text/plain": [
       "<Figure size 432x288 with 1 Axes>"
      ]
     },
     "metadata": {},
     "output_type": "display_data"
    }
   ],
   "source": [
    "df = read_csv('data/AirPassengers.csv', usecols=[1])\n",
    "plt.plot(df)\n"
   ]
  },
  {
   "cell_type": "code",
   "execution_count": 3,
   "metadata": {},
   "outputs": [],
   "source": [
    "dataset = df.values\n",
    "dataset = dataset.astype('float32')"
   ]
  },
  {
   "cell_type": "code",
   "execution_count": 4,
   "metadata": {},
   "outputs": [],
   "source": [
    "scaler = MinMaxScaler(feature_range=(0, 1))\n",
    "dataset = scaler.fit_transform(dataset)"
   ]
  },
  {
   "cell_type": "code",
   "execution_count": 5,
   "metadata": {},
   "outputs": [],
   "source": [
    "train_size = int(len(dataset) * 0.7)\n",
    "test_size = len(dataset) - train_size\n",
    "\n",
    "train, test = dataset[0:train_size,:], dataset[train_size:len(dataset),:]\n",
    "\n",
    "\n"
   ]
  },
  {
   "cell_type": "code",
   "execution_count": 6,
   "metadata": {},
   "outputs": [],
   "source": [
    "def to_sequences(dataset, seq_size=1):\n",
    "    x = []\n",
    "    y = []\n",
    "\n",
    "    for i in range(len(dataset)-seq_size-1):\n",
    "        window = dataset[i:(i+seq_size), 0]\n",
    "        x.append(window)\n",
    "        y.append(dataset[i+seq_size, 0])\n",
    "        \n",
    "    return np.array(x),np.array(y)\n"
   ]
  },
  {
   "cell_type": "code",
   "execution_count": 7,
   "metadata": {},
   "outputs": [],
   "source": [
    "seq_size = 10\n",
    "#can be larger for larger datasets, number of previous values the forecast is predicted using\n",
    "\n",
    "trainX, trainY = to_sequences(train, seq_size)\n",
    "testX, testY = to_sequences(test, seq_size)"
   ]
  },
  {
   "cell_type": "code",
   "execution_count": 8,
   "metadata": {},
   "outputs": [
    {
     "name": "stdout",
     "output_type": "stream",
     "text": [
      "Shape of training set: (89, 10)\n",
      "Shape of test set: (33, 10)\n"
     ]
    }
   ],
   "source": [
    "print(\"Shape of training set: {}\".format(trainX.shape))\n",
    "print(\"Shape of test set: {}\".format(testX.shape))"
   ]
  },
  {
   "cell_type": "code",
   "execution_count": 9,
   "metadata": {},
   "outputs": [],
   "source": [
    "trainX = trainX.reshape((trainX.shape[0], 1,seq_size))\n",
    "testX = testX.reshape((testX.shape[0], 1, seq_size))"
   ]
  },
  {
   "cell_type": "code",
   "execution_count": 10,
   "metadata": {},
   "outputs": [
    {
     "name": "stdout",
     "output_type": "stream",
     "text": [
      "Single LSTM with hidden Dense...\n",
      "Model: \"sequential_1\"\n",
      "_________________________________________________________________\n",
      "Layer (type)                 Output Shape              Param #   \n",
      "=================================================================\n",
      "lstm_1 (LSTM)                (None, 64)                19200     \n",
      "_________________________________________________________________\n",
      "dense_1 (Dense)              (None, 32)                2080      \n",
      "_________________________________________________________________\n",
      "dense_2 (Dense)              (None, 1)                 33        \n",
      "=================================================================\n",
      "Total params: 21,313\n",
      "Trainable params: 21,313\n",
      "Non-trainable params: 0\n",
      "_________________________________________________________________\n"
     ]
    }
   ],
   "source": [
    "print('Single LSTM with hidden Dense...')\n",
    "model = Sequential()\n",
    "model.add(LSTM(64, input_shape=(None, seq_size)))\n",
    "model.add(Dense(32))\n",
    "model.add(Dense(1))\n",
    "model.compile(loss='mean_squared_error', optimizer='adam')\n",
    "monitor = EarlyStopping(monitor='val_loss', min_delta=1e-3, patience=20, \n",
    "                        verbose=1, mode='auto', restore_best_weights=True)\n",
    "model.summary()"
   ]
  },
  {
   "cell_type": "code",
   "execution_count": 11,
   "metadata": {},
   "outputs": [
    {
     "name": "stdout",
     "output_type": "stream",
     "text": [
      "Train on 89 samples, validate on 33 samples\n",
      "Epoch 1/100\n",
      " - 4s - loss: 0.0778 - val_loss: 0.3356\n",
      "Epoch 2/100\n",
      " - 0s - loss: 0.0449 - val_loss: 0.2074\n",
      "Epoch 3/100\n",
      " - 0s - loss: 0.0231 - val_loss: 0.1141\n",
      "Epoch 4/100\n",
      " - 0s - loss: 0.0116 - val_loss: 0.0562\n",
      "Epoch 5/100\n",
      " - 0s - loss: 0.0080 - val_loss: 0.0313\n",
      "Epoch 6/100\n",
      " - 0s - loss: 0.0101 - val_loss: 0.0259\n",
      "Epoch 7/100\n",
      " - 0s - loss: 0.0123 - val_loss: 0.0255\n",
      "Epoch 8/100\n",
      " - 0s - loss: 0.0115 - val_loss: 0.0262\n",
      "Epoch 9/100\n",
      " - 0s - loss: 0.0091 - val_loss: 0.0306\n",
      "Epoch 10/100\n",
      " - 0s - loss: 0.0073 - val_loss: 0.0386\n",
      "Epoch 11/100\n",
      " - 0s - loss: 0.0066 - val_loss: 0.0468\n",
      "Epoch 12/100\n",
      " - 0s - loss: 0.0067 - val_loss: 0.0511\n",
      "Epoch 13/100\n",
      " - 0s - loss: 0.0070 - val_loss: 0.0509\n",
      "Epoch 14/100\n",
      " - 0s - loss: 0.0068 - val_loss: 0.0463\n",
      "Epoch 15/100\n",
      " - 0s - loss: 0.0064 - val_loss: 0.0395\n",
      "Epoch 16/100\n",
      " - 0s - loss: 0.0059 - val_loss: 0.0332\n",
      "Epoch 17/100\n",
      " - 0s - loss: 0.0056 - val_loss: 0.0288\n",
      "Epoch 18/100\n",
      " - 0s - loss: 0.0055 - val_loss: 0.0262\n",
      "Epoch 19/100\n",
      " - 0s - loss: 0.0054 - val_loss: 0.0249\n",
      "Epoch 20/100\n",
      " - 0s - loss: 0.0053 - val_loss: 0.0246\n",
      "Epoch 21/100\n",
      " - 0s - loss: 0.0051 - val_loss: 0.0244\n",
      "Epoch 22/100\n",
      " - 0s - loss: 0.0049 - val_loss: 0.0244\n",
      "Epoch 23/100\n",
      " - 0s - loss: 0.0047 - val_loss: 0.0244\n",
      "Epoch 24/100\n",
      " - 0s - loss: 0.0046 - val_loss: 0.0240\n",
      "Epoch 25/100\n",
      " - 0s - loss: 0.0045 - val_loss: 0.0231\n",
      "Epoch 26/100\n",
      " - 0s - loss: 0.0044 - val_loss: 0.0220\n",
      "Epoch 27/100\n",
      " - 0s - loss: 0.0043 - val_loss: 0.0210\n",
      "Epoch 28/100\n",
      " - 0s - loss: 0.0042 - val_loss: 0.0200\n",
      "Epoch 29/100\n",
      " - 0s - loss: 0.0041 - val_loss: 0.0193\n",
      "Epoch 30/100\n",
      " - 0s - loss: 0.0041 - val_loss: 0.0189\n",
      "Epoch 31/100\n",
      " - 0s - loss: 0.0040 - val_loss: 0.0185\n",
      "Epoch 32/100\n",
      " - 0s - loss: 0.0039 - val_loss: 0.0181\n",
      "Epoch 33/100\n",
      " - 0s - loss: 0.0038 - val_loss: 0.0177\n",
      "Epoch 34/100\n",
      " - 0s - loss: 0.0037 - val_loss: 0.0172\n",
      "Epoch 35/100\n",
      " - 0s - loss: 0.0036 - val_loss: 0.0168\n",
      "Epoch 36/100\n",
      " - 0s - loss: 0.0035 - val_loss: 0.0164\n",
      "Epoch 37/100\n",
      " - 0s - loss: 0.0034 - val_loss: 0.0160\n",
      "Epoch 38/100\n",
      " - 0s - loss: 0.0033 - val_loss: 0.0156\n",
      "Epoch 39/100\n",
      " - 0s - loss: 0.0033 - val_loss: 0.0152\n",
      "Epoch 40/100\n",
      " - 0s - loss: 0.0032 - val_loss: 0.0151\n",
      "Epoch 41/100\n",
      " - 0s - loss: 0.0031 - val_loss: 0.0144\n",
      "Epoch 42/100\n",
      " - 0s - loss: 0.0031 - val_loss: 0.0139\n",
      "Epoch 43/100\n",
      " - 0s - loss: 0.0030 - val_loss: 0.0134\n",
      "Epoch 44/100\n",
      " - 0s - loss: 0.0029 - val_loss: 0.0130\n",
      "Epoch 45/100\n",
      " - 0s - loss: 0.0028 - val_loss: 0.0129\n",
      "Epoch 46/100\n",
      " - 0s - loss: 0.0028 - val_loss: 0.0129\n",
      "Epoch 47/100\n",
      " - 0s - loss: 0.0027 - val_loss: 0.0123\n",
      "Epoch 48/100\n",
      " - 0s - loss: 0.0026 - val_loss: 0.0121\n",
      "Epoch 49/100\n",
      " - 0s - loss: 0.0026 - val_loss: 0.0115\n",
      "Epoch 50/100\n",
      " - 0s - loss: 0.0025 - val_loss: 0.0113\n",
      "Epoch 51/100\n",
      " - 0s - loss: 0.0025 - val_loss: 0.0114\n",
      "Epoch 52/100\n",
      " - 0s - loss: 0.0024 - val_loss: 0.0113\n",
      "Epoch 53/100\n",
      " - 0s - loss: 0.0024 - val_loss: 0.0107\n",
      "Epoch 54/100\n",
      " - 0s - loss: 0.0023 - val_loss: 0.0105\n",
      "Epoch 55/100\n",
      " - 0s - loss: 0.0023 - val_loss: 0.0102\n",
      "Epoch 56/100\n",
      " - 0s - loss: 0.0022 - val_loss: 0.0104\n",
      "Epoch 57/100\n",
      " - 0s - loss: 0.0022 - val_loss: 0.0105\n",
      "Epoch 58/100\n",
      " - 0s - loss: 0.0022 - val_loss: 0.0094\n",
      "Epoch 59/100\n",
      " - 0s - loss: 0.0021 - val_loss: 0.0096\n",
      "Epoch 60/100\n",
      " - 0s - loss: 0.0021 - val_loss: 0.0105\n",
      "Epoch 61/100\n",
      " - 0s - loss: 0.0021 - val_loss: 0.0098\n",
      "Epoch 62/100\n",
      " - 0s - loss: 0.0020 - val_loss: 0.0097\n",
      "Epoch 63/100\n",
      " - 0s - loss: 0.0020 - val_loss: 0.0093\n",
      "Epoch 64/100\n",
      " - 0s - loss: 0.0020 - val_loss: 0.0090\n",
      "Epoch 65/100\n",
      " - 0s - loss: 0.0020 - val_loss: 0.0091\n",
      "Epoch 66/100\n",
      " - 0s - loss: 0.0020 - val_loss: 0.0098\n",
      "Epoch 67/100\n",
      " - 0s - loss: 0.0019 - val_loss: 0.0098\n",
      "Epoch 68/100\n",
      " - 0s - loss: 0.0019 - val_loss: 0.0095\n",
      "Epoch 69/100\n",
      " - 0s - loss: 0.0019 - val_loss: 0.0088\n",
      "Epoch 70/100\n",
      " - 0s - loss: 0.0019 - val_loss: 0.0090\n",
      "Epoch 71/100\n",
      " - 0s - loss: 0.0019 - val_loss: 0.0104\n",
      "Epoch 72/100\n",
      " - 0s - loss: 0.0019 - val_loss: 0.0101\n",
      "Epoch 73/100\n",
      " - 0s - loss: 0.0018 - val_loss: 0.0084\n",
      "Epoch 74/100\n",
      " - 0s - loss: 0.0018 - val_loss: 0.0081\n",
      "Epoch 75/100\n",
      " - 0s - loss: 0.0018 - val_loss: 0.0087\n",
      "Epoch 76/100\n",
      " - 0s - loss: 0.0018 - val_loss: 0.0095\n",
      "Epoch 77/100\n",
      " - 0s - loss: 0.0018 - val_loss: 0.0087\n",
      "Epoch 78/100\n",
      " - 0s - loss: 0.0018 - val_loss: 0.0078\n",
      "Epoch 79/100\n",
      " - 0s - loss: 0.0018 - val_loss: 0.0082\n",
      "Epoch 80/100\n",
      " - 0s - loss: 0.0018 - val_loss: 0.0090\n",
      "Epoch 81/100\n",
      " - 0s - loss: 0.0017 - val_loss: 0.0087\n",
      "Epoch 82/100\n",
      " - 0s - loss: 0.0017 - val_loss: 0.0080\n",
      "Epoch 83/100\n",
      " - 0s - loss: 0.0018 - val_loss: 0.0075\n",
      "Epoch 84/100\n",
      " - 0s - loss: 0.0017 - val_loss: 0.0085\n",
      "Epoch 85/100\n",
      " - 0s - loss: 0.0017 - val_loss: 0.0097\n",
      "Epoch 86/100\n",
      " - 0s - loss: 0.0017 - val_loss: 0.0088\n",
      "Epoch 87/100\n",
      " - 0s - loss: 0.0016 - val_loss: 0.0073\n",
      "Epoch 88/100\n",
      " - 0s - loss: 0.0018 - val_loss: 0.0071\n",
      "Epoch 89/100\n",
      " - 0s - loss: 0.0017 - val_loss: 0.0091\n",
      "Epoch 90/100\n",
      " - 0s - loss: 0.0017 - val_loss: 0.0093\n",
      "Epoch 91/100\n",
      " - 0s - loss: 0.0017 - val_loss: 0.0074\n",
      "Epoch 92/100\n",
      " - 0s - loss: 0.0016 - val_loss: 0.0075\n",
      "Epoch 93/100\n",
      " - 0s - loss: 0.0016 - val_loss: 0.0076\n",
      "Epoch 94/100\n",
      " - 0s - loss: 0.0016 - val_loss: 0.0081\n",
      "Epoch 95/100\n",
      " - 0s - loss: 0.0016 - val_loss: 0.0078\n",
      "Epoch 96/100\n",
      " - 0s - loss: 0.0016 - val_loss: 0.0077\n",
      "Epoch 97/100\n",
      " - 0s - loss: 0.0016 - val_loss: 0.0078\n",
      "Epoch 98/100\n",
      " - 0s - loss: 0.0016 - val_loss: 0.0074\n",
      "Epoch 99/100\n",
      " - 0s - loss: 0.0016 - val_loss: 0.0071\n",
      "Epoch 100/100\n",
      " - 0s - loss: 0.0016 - val_loss: 0.0085\n"
     ]
    },
    {
     "data": {
      "text/plain": [
       "<keras.callbacks.callbacks.History at 0x7f748039e910>"
      ]
     },
     "execution_count": 11,
     "metadata": {},
     "output_type": "execute_result"
    }
   ],
   "source": [
    "model.fit(trainX, trainY, validation_data=(testX, testY),\n",
    "          verbose=2, epochs=100)"
   ]
  },
  {
   "cell_type": "code",
   "execution_count": 12,
   "metadata": {},
   "outputs": [],
   "source": [
    "trainPredict = model.predict(trainX)\n",
    "testPredict = model.predict(testX)"
   ]
  },
  {
   "cell_type": "code",
   "execution_count": 13,
   "metadata": {},
   "outputs": [],
   "source": [
    "trainPredict = scaler.inverse_transform(trainPredict)\n",
    "trainY = scaler.inverse_transform([trainY])\n",
    "testPredict = scaler.inverse_transform(testPredict)\n",
    "testY = scaler.inverse_transform([testY])"
   ]
  },
  {
   "cell_type": "code",
   "execution_count": 14,
   "metadata": {},
   "outputs": [
    {
     "name": "stdout",
     "output_type": "stream",
     "text": [
      "Train Score: 20.49 RMSE\n"
     ]
    }
   ],
   "source": [
    "trainScore = math.sqrt(mean_squared_error(trainY[0], trainPredict[:,0]))\n",
    "print('Train Score: %.2f RMSE' % (trainScore))"
   ]
  },
  {
   "cell_type": "code",
   "execution_count": 15,
   "metadata": {},
   "outputs": [
    {
     "name": "stdout",
     "output_type": "stream",
     "text": [
      "Test Score: 47.66 RMSE\n"
     ]
    }
   ],
   "source": [
    "testScore = math.sqrt(mean_squared_error(testY[0], testPredict[:,0]))\n",
    "print('Test Score: %.2f RMSE' % (testScore))\n"
   ]
  },
  {
   "cell_type": "code",
   "execution_count": 16,
   "metadata": {},
   "outputs": [],
   "source": [
    "trainPredictPlot = np.empty_like(dataset)\n",
    "trainPredictPlot[:, :] = np.nan\n",
    "trainPredictPlot[seq_size:len(trainPredict)+seq_size, :] = trainPredict\n"
   ]
  },
  {
   "cell_type": "code",
   "execution_count": 17,
   "metadata": {},
   "outputs": [],
   "source": [
    "testPredictPlot = np.empty_like(dataset)\n",
    "testPredictPlot[:, :] = np.nan\n",
    "testPredictPlot[len(trainPredict)+(seq_size*2)+1:len(dataset)-1, :] = testPredict"
   ]
  },
  {
   "cell_type": "code",
   "execution_count": 18,
   "metadata": {},
   "outputs": [
    {
     "data": {
      "image/png": "[encoded data removed]",
      "text/plain": [
       "<Figure size 432x288 with 1 Axes>"
      ]
     },
     "metadata": {},
     "output_type": "display_data"
    }
   ],
   "source": [
    "plt.plot(scaler.inverse_transform(dataset))\n",
    "plt.plot(trainPredictPlot)\n",
    "plt.plot(testPredictPlot)\n",
    "plt.show()"
   ]
  },
  {
   "cell_type": "code",
   "execution_count": 19,
   "metadata": {},
   "outputs": [],
   "source": [
    "dataset_resid = scaler.inverse_transform(dataset)\n"
   ]
  },
  {
   "cell_type": "code",
   "execution_count": 20,
   "metadata": {},
   "outputs": [
    {
     "data": {
      "image/png": "[encoded data removed]",
      "text/plain": [
       "<Figure size 432x288 with 1 Axes>"
      ]
     },
     "metadata": {},
     "output_type": "display_data"
    }
   ],
   "source": [
    "plt.plot(trainPredictPlot)\n",
    "plt.plot(testPredictPlot)\n",
    "plt.show()"
   ]
  },
  {
   "cell_type": "code",
   "execution_count": 21,
   "metadata": {},
   "outputs": [],
   "source": [
    "l = [trainPredictPlot,testPredictPlot]"
   ]
  },
  {
   "cell_type": "code",
   "execution_count": 22,
   "metadata": {},
   "outputs": [],
   "source": [
    "predicted_train = []\n",
    "predicted_test = []\n",
    "for v in trainPredictPlot:\n",
    "    if math.isnan(v[0]):\n",
    "        predicted_train.append(0)\n",
    "    else:\n",
    "        predicted_train.append(v[0])\n",
    "predicted_test = []\n",
    "for v in testPredictPlot:\n",
    "    if math.isnan(v[0]):\n",
    "        predicted_test.append(0)\n",
    "    else:\n",
    "        predicted_test.append(v[0])\n",
    "    \n",
    "        "
   ]
  },
  {
   "cell_type": "code",
   "execution_count": 23,
   "metadata": {},
   "outputs": [],
   "source": [
    "predicted_train = np.array(predicted_train)\n",
    "predicted_test = np.array(predicted_test)"
   ]
  },
  {
   "cell_type": "code",
   "execution_count": 24,
   "metadata": {},
   "outputs": [],
   "source": [
    "predicted_final = predicted_test+predicted_train"
   ]
  },
  {
   "cell_type": "code",
   "execution_count": 25,
   "metadata": {},
   "outputs": [],
   "source": [
    "dataset_resid = np.array([i[0] for i in dataset_resid])"
   ]
  },
  {
   "cell_type": "code",
   "execution_count": 35,
   "metadata": {},
   "outputs": [],
   "source": [
    "residual = dataset_resid - predicted_final\n",
    "residual_df = pd.DataFrame(residual)"
   ]
  },
  {
   "cell_type": "code",
   "execution_count": 36,
   "metadata": {},
   "outputs": [
    {
     "name": "stdout",
     "output_type": "stream",
     "text": [
      "the data is not stationary\n"
     ]
    }
   ],
   "source": [
    "from statsmodels.tsa.stattools import adfuller\n",
    "adf, pvalue, usedlag_, nobs_, critical_values_, icbest_ = adfuller(residual_df)\n",
    "if pvalue > 0.05:\n",
    "    print('the data is not stationary')\n",
    "else:\n",
    "    print('the data is stationary')"
   ]
  },
  {
   "cell_type": "code",
   "execution_count": 39,
   "metadata": {},
   "outputs": [
    {
     "name": "stdout",
     "output_type": "stream",
     "text": [
      "Performing stepwise search to minimize aic\n",
      " ARIMA(1,1,1)(0,1,0)[12]             : AIC=1517.100, Time=1.30 sec\n",
      " ARIMA(0,1,0)(0,1,0)[12]             : AIC=1517.644, Time=0.05 sec\n",
      " ARIMA(1,1,0)(1,1,0)[12]             : AIC=1495.828, Time=0.22 sec\n",
      " ARIMA(0,1,1)(0,1,1)[12]             : AIC=1478.874, Time=0.45 sec\n",
      " ARIMA(0,1,1)(0,1,0)[12]             : AIC=1515.119, Time=0.05 sec\n",
      " ARIMA(0,1,1)(1,1,1)[12]             : AIC=1480.858, Time=0.56 sec\n",
      " ARIMA(0,1,1)(0,1,2)[12]             : AIC=1480.853, Time=0.84 sec\n",
      " ARIMA(0,1,1)(1,1,0)[12]             : AIC=1495.711, Time=0.17 sec\n",
      " ARIMA(0,1,1)(1,1,2)[12]             : AIC=1482.697, Time=2.69 sec\n",
      " ARIMA(0,1,0)(0,1,1)[12]             : AIC=1478.116, Time=0.19 sec\n",
      " ARIMA(0,1,0)(1,1,1)[12]             : AIC=1479.946, Time=0.47 sec\n",
      " ARIMA(0,1,0)(0,1,2)[12]             : AIC=1479.893, Time=0.94 sec\n",
      " ARIMA(0,1,0)(1,1,0)[12]             : AIC=1494.686, Time=0.17 sec\n",
      " ARIMA(0,1,0)(1,1,2)[12]             : AIC=inf, Time=2.00 sec\n",
      " ARIMA(1,1,0)(0,1,1)[12]             : AIC=1478.962, Time=0.53 sec\n",
      " ARIMA(1,1,1)(0,1,1)[12]             : AIC=1480.850, Time=1.06 sec\n",
      " ARIMA(0,1,0)(0,1,1)[12] intercept   : AIC=1479.435, Time=0.33 sec\n",
      "\n",
      "Best model:  ARIMA(0,1,0)(0,1,1)[12]          \n",
      "Total fit time: 12.031 seconds\n"
     ]
    }
   ],
   "source": [
    "from pmdarima.arima import auto_arima\n",
    "#Autoarima gives us bet model suited for the data\n",
    "# p - number of autoregressive terms (AR)\n",
    "# q - Number of moving avergae terms (MA)\n",
    "# d - number of non-seasonal differences\n",
    "#p, d, q represent non-seasonal components\n",
    "#P, D, Q represent seasonal components\n",
    "arima_model = auto_arima(residual_df[0], start_p = 1, d=1, start_q = 1, \n",
    "                          max_p = 5, max_q = 5, max_d=5, m = 12, \n",
    "                          start_P = 0, D=1, start_Q=0, max_P=5, max_D=5, max_Q=5,\n",
    "                          seasonal = True, \n",
    "                          trace = True, \n",
    "                          error_action ='ignore',   \n",
    "                          suppress_warnings = True,  \n",
    "                          stepwise = True, n_fits=50)           \n",
    "  "
   ]
  },
  {
   "cell_type": "code",
   "execution_count": 42,
   "metadata": {},
   "outputs": [
    {
     "name": "stdout",
     "output_type": "stream",
     "text": [
      "                                      SARIMAX Results                                       \n",
      "============================================================================================\n",
      "Dep. Variable:                                    y   No. Observations:                  144\n",
      "Model:             SARIMAX(0, 1, 0)x(0, 1, [1], 12)   Log Likelihood                -737.058\n",
      "Date:                              Sat, 29 May 2021   AIC                           1478.116\n",
      "Time:                                      20:38:46   BIC                           1483.867\n",
      "Sample:                                           0   HQIC                          1480.453\n",
      "                                              - 144                                         \n",
      "Covariance Type:                                opg                                         \n",
      "==============================================================================\n",
      "                 coef    std err          z      P>|z|      [0.025      0.975]\n",
      "------------------------------------------------------------------------------\n",
      "ma.S.L12      -0.7468      0.062    -12.137      0.000      -0.867      -0.626\n",
      "sigma2      4191.6402    141.149     29.697      0.000    3914.994    4468.287\n",
      "===================================================================================\n",
      "Ljung-Box (L1) (Q):                   0.77   Jarque-Bera (JB):              3411.36\n",
      "Prob(Q):                              0.38   Prob(JB):                         0.00\n",
      "Heteroskedasticity (H):              16.18   Skew:                             1.96\n",
      "Prob(H) (two-sided):                  0.00   Kurtosis:                        27.69\n",
      "===================================================================================\n",
      "\n",
      "Warnings:\n",
      "[1] Covariance matrix calculated using the outer product of gradients (complex-step).\n"
     ]
    }
   ],
   "source": [
    "print(arima_model.summary() )"
   ]
  },
  {
   "cell_type": "code",
   "execution_count": 43,
   "metadata": {},
   "outputs": [],
   "source": [
    "size = int(len(residual_df) * 2/3)\n",
    "X_train, X_test = residual_df[0:size], residual_df[size:len(df)]"
   ]
  },
  {
   "cell_type": "code",
   "execution_count": 44,
   "metadata": {},
   "outputs": [],
   "source": [
    "from statsmodels.tsa.statespace.sarimax import SARIMAX \n",
    "  \n",
    "model = SARIMAX(X_train[0],  \n",
    "                order = (0, 1, 0),  \n",
    "                seasonal_order =(0, 1, 1, 12)) "
   ]
  },
  {
   "cell_type": "code",
   "execution_count": 45,
   "metadata": {},
   "outputs": [
    {
     "data": {
      "text/html": [
       "<table class=\"simpletable\">\n",
       "<caption>SARIMAX Results</caption>\n",
       "<tr>\n",
       "  <th>Dep. Variable:</th>                   <td>y</td>                <th>  No. Observations:  </th>    <td>96</td>   \n",
       "</tr>\n",
       "<tr>\n",
       "  <th>Model:</th>           <td>SARIMAX(0, 1, 0)x(0, 1, [1], 12)</td> <th>  Log Likelihood     </th> <td>-368.885</td>\n",
       "</tr>\n",
       "<tr>\n",
       "  <th>Date:</th>                    <td>Sat, 29 May 2021</td>         <th>  AIC                </th>  <td>741.770</td>\n",
       "</tr>\n",
       "<tr>\n",
       "  <th>Time:</th>                        <td>20:41:32</td>             <th>  BIC                </th>  <td>746.607</td>\n",
       "</tr>\n",
       "<tr>\n",
       "  <th>Sample:</th>                          <td>0</td>                <th>  HQIC               </th>  <td>743.713</td>\n",
       "</tr>\n",
       "<tr>\n",
       "  <th></th>                               <td> - 96</td>              <th>                     </th>     <td> </td>   \n",
       "</tr>\n",
       "<tr>\n",
       "  <th>Covariance Type:</th>                <td>opg</td>               <th>                     </th>     <td> </td>   \n",
       "</tr>\n",
       "</table>\n",
       "<table class=\"simpletable\">\n",
       "<tr>\n",
       "      <td></td>        <th>coef</th>     <th>std err</th>      <th>z</th>      <th>P>|z|</th>  <th>[0.025</th>    <th>0.975]</th>  \n",
       "</tr>\n",
       "<tr>\n",
       "  <th>ma.S.L12</th> <td>   -0.3383</td> <td>    0.085</td> <td>   -3.971</td> <td> 0.000</td> <td>   -0.505</td> <td>   -0.171</td>\n",
       "</tr>\n",
       "<tr>\n",
       "  <th>sigma2</th>   <td>  417.1728</td> <td>   27.668</td> <td>   15.078</td> <td> 0.000</td> <td>  362.944</td> <td>  471.402</td>\n",
       "</tr>\n",
       "</table>\n",
       "<table class=\"simpletable\">\n",
       "<tr>\n",
       "  <th>Ljung-Box (L1) (Q):</th>     <td>2.60</td> <th>  Jarque-Bera (JB):  </th> <td>1501.14</td>\n",
       "</tr>\n",
       "<tr>\n",
       "  <th>Prob(Q):</th>                <td>0.11</td> <th>  Prob(JB):          </th>  <td>0.00</td>  \n",
       "</tr>\n",
       "<tr>\n",
       "  <th>Heteroskedasticity (H):</th> <td>0.18</td> <th>  Skew:              </th>  <td>3.35</td>  \n",
       "</tr>\n",
       "<tr>\n",
       "  <th>Prob(H) (two-sided):</th>    <td>0.00</td> <th>  Kurtosis:          </th>  <td>22.73</td> \n",
       "</tr>\n",
       "</table><br/><br/>Warnings:<br/>[1] Covariance matrix calculated using the outer product of gradients (complex-step)."
      ],
      "text/plain": [
       "<class 'statsmodels.iolib.summary.Summary'>\n",
       "\"\"\"\n",
       "                                      SARIMAX Results                                       \n",
       "============================================================================================\n",
       "Dep. Variable:                                    y   No. Observations:                   96\n",
       "Model:             SARIMAX(0, 1, 0)x(0, 1, [1], 12)   Log Likelihood                -368.885\n",
       "Date:                              Sat, 29 May 2021   AIC                            741.770\n",
       "Time:                                      20:41:32   BIC                            746.607\n",
       "Sample:                                           0   HQIC                           743.713\n",
       "                                               - 96                                         \n",
       "Covariance Type:                                opg                                         \n",
       "==============================================================================\n",
       "                 coef    std err          z      P>|z|      [0.025      0.975]\n",
       "------------------------------------------------------------------------------\n",
       "ma.S.L12      -0.3383      0.085     -3.971      0.000      -0.505      -0.171\n",
       "sigma2       417.1728     27.668     15.078      0.000     362.944     471.402\n",
       "===================================================================================\n",
       "Ljung-Box (L1) (Q):                   2.60   Jarque-Bera (JB):              1501.14\n",
       "Prob(Q):                              0.11   Prob(JB):                         0.00\n",
       "Heteroskedasticity (H):               0.18   Skew:                             3.35\n",
       "Prob(H) (two-sided):                  0.00   Kurtosis:                        22.73\n",
       "===================================================================================\n",
       "\n",
       "Warnings:\n",
       "[1] Covariance matrix calculated using the outer product of gradients (complex-step).\n",
       "\"\"\""
      ]
     },
     "execution_count": 45,
     "metadata": {},
     "output_type": "execute_result"
    }
   ],
   "source": [
    "result = model.fit() \n",
    "result.summary() "
   ]
  },
  {
   "cell_type": "code",
   "execution_count": 46,
   "metadata": {},
   "outputs": [],
   "source": [
    "start_index = 0\n",
    "end_index = len(X_train)-1\n",
    "train_prediction = result.predict(start_index, end_index) "
   ]
  },
  {
   "cell_type": "code",
   "execution_count": 56,
   "metadata": {},
   "outputs": [],
   "source": [
    "start_index = len(X_train)\n",
    "end_index = len(df)-1\n",
    "test_prediction = result.predict(start_index, end_index).rename('Predicted') "
   ]
  },
  {
   "cell_type": "code",
   "execution_count": 57,
   "metadata": {},
   "outputs": [
    {
     "data": {
      "text/plain": [
       "<AxesSubplot:>"
      ]
     },
     "execution_count": 57,
     "metadata": {},
     "output_type": "execute_result"
    },
    {
     "data": {
      "image/png": "[encoded data removed]",
      "text/plain": [
       "<Figure size 432x288 with 1 Axes>"
      ]
     },
     "metadata": {},
     "output_type": "display_data"
    }
   ],
   "source": [
    "prediction.plot(legend = True) \n",
    "X_test[0].plot(legend = True) "
   ]
  },
  {
   "cell_type": "code",
   "execution_count": 49,
   "metadata": {},
   "outputs": [
    {
     "name": "stdout",
     "output_type": "stream",
     "text": [
      "Train Score: 28.10 RMSE\n",
      "Test Score: 193.74 RMSE\n"
     ]
    }
   ],
   "source": [
    "import math\n",
    "from sklearn.metrics import mean_squared_error\n",
    "# calculate root mean squared error\n",
    "trainScore = math.sqrt(mean_squared_error(X_train[0], train_prediction))\n",
    "print('Train Score: %.2f RMSE' % (trainScore))\n",
    "testScore = math.sqrt(mean_squared_error(X_test[0], prediction))\n",
    "print('Test Score: %.2f RMSE' % (testScore))"
   ]
  },
  {
   "cell_type": "code",
   "execution_count": 50,
   "metadata": {},
   "outputs": [],
   "source": [
    "forecast = result.predict(start = len(df),  \n",
    "                          end = (len(df)-1) + 3 * 12,  \n",
    "                          typ = 'levels').rename('Forecast') "
   ]
  },
  {
   "cell_type": "code",
   "execution_count": 63,
   "metadata": {},
   "outputs": [],
   "source": [
    "residual_prediction = [v for v in train_prediction]"
   ]
  },
  {
   "cell_type": "code",
   "execution_count": 65,
   "metadata": {},
   "outputs": [],
   "source": [
    "for v in test_prediction:\n",
    "    residual_prediction.append(v)"
   ]
  },
  {
   "cell_type": "code",
   "execution_count": 69,
   "metadata": {},
   "outputs": [],
   "source": [
    "hybrid_prediction = predicted_final + np.array(residual_prediction)"
   ]
  },
  {
   "cell_type": "code",
   "execution_count": 70,
   "metadata": {},
   "outputs": [
    {
     "data": {
      "text/plain": [
       "[<matplotlib.lines.Line2D at 0x7f73dc9f7040>]"
      ]
     },
     "execution_count": 70,
     "metadata": {},
     "output_type": "execute_result"
    },
    {
     "data": {
      "image/png": "[encoded data removed]",
      "text/plain": [
       "<Figure size 432x288 with 1 Axes>"
      ]
     },
     "metadata": {},
     "output_type": "display_data"
    }
   ],
   "source": [
    "plt.plot(hybrid_prediction)"
   ]
  },
  {
   "cell_type": "code",
   "execution_count": 71,
   "metadata": {},
   "outputs": [
    {
     "data": {
      "text/plain": [
       "[<matplotlib.lines.Line2D at 0x7f73dc9ce7c0>]"
      ]
     },
     "execution_count": 71,
     "metadata": {},
     "output_type": "execute_result"
    },
    {
     "data": {
      "image/png": "[encoded data removed]",
      "text/plain": [
       "<Figure size 432x288 with 1 Axes>"
      ]
     },
     "metadata": {},
     "output_type": "display_data"
    }
   ],
   "source": [
    "plt.plot(residual_prediction)"
   ]
  },
  {
   "cell_type": "code",
   "execution_count": null,
   "metadata": {},
   "outputs": [],
   "source": []
  }
 ],
 "metadata": {
  "kernelspec": {
   "display_name": "Python 3.8.3 64-bit ('neuralnet': conda)",
   "language": "python",
   "name": "python38364bitneuralnetcondab96f87a952524cb1a2f43a859a2fadd8"
  },
  "language_info": {
   "codemirror_mode": {
    "name": "ipython",
    "version": 3
   },
   "file_extension": ".py",
   "mimetype": "text/x-python",
   "name": "python",
   "nbconvert_exporter": "python",
   "pygments_lexer": "ipython3",
   "version": "3.8.3"
  }
 },
 "nbformat": 4,
 "nbformat_minor": 2
}
